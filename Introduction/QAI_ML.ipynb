{
  "nbformat": 4,
  "nbformat_minor": 0,
  "metadata": {
    "colab": {
      "provenance": [],
      "collapsed_sections": [
        "2F6DZ1Nz0vRr",
        "y1z4QNxShC4k",
        "h4ias4E_xiYW",
        "580cE23Pbp3C",
        "UIWM9SaFdD8r",
        "P_8g0l2Tertj",
        "OEpnQJj5e2jF",
        "byCOjRTN7Sr_",
        "co9jcP4I4ydC"
      ]
    },
    "kernelspec": {
      "name": "python3",
      "display_name": "Python 3"
    },
    "language_info": {
      "name": "python"
    }
  },
  "cells": [
    {
      "cell_type": "markdown",
      "source": [
        "***Why Quantum Machine Learning?***\n",
        "\n",
        "In the introduction of Quantum Machine Learning, it is essential to know what actually is Machine Learning. Let's have a deep dive into Machine Learning concepts including training models, increasing accuracies of the models.\n",
        "\n",
        "In this tutorial, we discuss linear models,  and support vector machines. Comparing their accuracies, you're assigned to analysis how each of them perform well on what kind of datasets.\n",
        "\n",
        "For every machine learning model to be built, there are some steps involved. In this tutorial, let's go through each step in the process of building your model on your own.\n",
        "\n",
        "Look at the steps mentioned below:\n",
        "1. Fetching the data\n",
        "2. Exploratory Data Analysis\n",
        "3. Preprocessing the data\n",
        "4. Choosing the right model\n",
        "5. Evaluating the model\n",
        "6. Finding the accuracy of the model\n",
        "\n",
        "These six steps are basic building blocks of Training and Testing a machine Learning model.\n",
        "\n",
        "\n",
        "\n"
      ],
      "metadata": {
        "id": "s2upkBq-sXBG"
      }
    },
    {
      "cell_type": "markdown",
      "source": [
        "###Importing Libraries"
      ],
      "metadata": {
        "id": "2FyolNIp5AuO"
      }
    },
    {
      "cell_type": "code",
      "source": [
        "import pandas as pd\n",
        "import pandas_profiling \n",
        "import matplotlib.pyplot as plt\n",
        "import seaborn as sns\n",
        "%matplotlib inline\n",
        "import math\n",
        "from sklearn import preprocessing\n",
        "from sklearn.model_selection import train_test_split\n",
        "import sklearn.metrics as metrics\n",
        "from sklearn.metrics import mean_squared_log_error\n",
        "from sklearn.linear_model import LinearRegression\n",
        "from sklearn.svm import  SVC\n",
        "from sklearn.ensemble import RandomForestClassifier\n",
        "from sklearn import metrics\n",
        "from sklearn.linear_model import LogisticRegression\n",
        "from sklearn.metrics import confusion_matrix,accuracy_score,classification_report"
      ],
      "metadata": {
        "id": "q9P0rpRM5EgK"
      },
      "execution_count": 3,
      "outputs": []
    },
    {
      "cell_type": "markdown",
      "source": [
        "### Fetching the Data\n"
      ],
      "metadata": {
        "id": "2F6DZ1Nz0vRr"
      }
    },
    {
      "cell_type": "markdown",
      "source": [
        "Fetching the data can be performed using various available libraries in python like pandas, numpy\n",
        "1. Pandas is a python library rich in it's support extending to file formats like comma seperated values (.csv), "
      ],
      "metadata": {
        "id": "QFJlx8ql73sU"
      }
    },
    {
      "cell_type": "code",
      "execution_count": 4,
      "metadata": {
        "id": "YWa7Yn6rIJRT",
        "colab": {
          "base_uri": "https://localhost:8080/",
          "height": 206
        },
        "outputId": "b9d484d0-5793-496a-f767-250a4094df1a"
      },
      "outputs": [
        {
          "output_type": "execute_result",
          "data": {
            "text/plain": [
              "   Age Sex      BP Cholesterol  Na_to_K   Drug\n",
              "0   23   F    HIGH        HIGH   25.355  DrugY\n",
              "1   47   M     LOW        HIGH   13.093  drugC\n",
              "2   47   M     LOW        HIGH   10.114  drugC\n",
              "3   28   F  NORMAL        HIGH    7.798  drugX\n",
              "4   61   F     LOW        HIGH   18.043  DrugY"
            ],
            "text/html": [
              "\n",
              "  <div id=\"df-781c9dc7-aa75-423e-8aa4-75389933c9a7\">\n",
              "    <div class=\"colab-df-container\">\n",
              "      <div>\n",
              "<style scoped>\n",
              "    .dataframe tbody tr th:only-of-type {\n",
              "        vertical-align: middle;\n",
              "    }\n",
              "\n",
              "    .dataframe tbody tr th {\n",
              "        vertical-align: top;\n",
              "    }\n",
              "\n",
              "    .dataframe thead th {\n",
              "        text-align: right;\n",
              "    }\n",
              "</style>\n",
              "<table border=\"1\" class=\"dataframe\">\n",
              "  <thead>\n",
              "    <tr style=\"text-align: right;\">\n",
              "      <th></th>\n",
              "      <th>Age</th>\n",
              "      <th>Sex</th>\n",
              "      <th>BP</th>\n",
              "      <th>Cholesterol</th>\n",
              "      <th>Na_to_K</th>\n",
              "      <th>Drug</th>\n",
              "    </tr>\n",
              "  </thead>\n",
              "  <tbody>\n",
              "    <tr>\n",
              "      <th>0</th>\n",
              "      <td>23</td>\n",
              "      <td>F</td>\n",
              "      <td>HIGH</td>\n",
              "      <td>HIGH</td>\n",
              "      <td>25.355</td>\n",
              "      <td>DrugY</td>\n",
              "    </tr>\n",
              "    <tr>\n",
              "      <th>1</th>\n",
              "      <td>47</td>\n",
              "      <td>M</td>\n",
              "      <td>LOW</td>\n",
              "      <td>HIGH</td>\n",
              "      <td>13.093</td>\n",
              "      <td>drugC</td>\n",
              "    </tr>\n",
              "    <tr>\n",
              "      <th>2</th>\n",
              "      <td>47</td>\n",
              "      <td>M</td>\n",
              "      <td>LOW</td>\n",
              "      <td>HIGH</td>\n",
              "      <td>10.114</td>\n",
              "      <td>drugC</td>\n",
              "    </tr>\n",
              "    <tr>\n",
              "      <th>3</th>\n",
              "      <td>28</td>\n",
              "      <td>F</td>\n",
              "      <td>NORMAL</td>\n",
              "      <td>HIGH</td>\n",
              "      <td>7.798</td>\n",
              "      <td>drugX</td>\n",
              "    </tr>\n",
              "    <tr>\n",
              "      <th>4</th>\n",
              "      <td>61</td>\n",
              "      <td>F</td>\n",
              "      <td>LOW</td>\n",
              "      <td>HIGH</td>\n",
              "      <td>18.043</td>\n",
              "      <td>DrugY</td>\n",
              "    </tr>\n",
              "  </tbody>\n",
              "</table>\n",
              "</div>\n",
              "      <button class=\"colab-df-convert\" onclick=\"convertToInteractive('df-781c9dc7-aa75-423e-8aa4-75389933c9a7')\"\n",
              "              title=\"Convert this dataframe to an interactive table.\"\n",
              "              style=\"display:none;\">\n",
              "        \n",
              "  <svg xmlns=\"http://www.w3.org/2000/svg\" height=\"24px\"viewBox=\"0 0 24 24\"\n",
              "       width=\"24px\">\n",
              "    <path d=\"M0 0h24v24H0V0z\" fill=\"none\"/>\n",
              "    <path d=\"M18.56 5.44l.94 2.06.94-2.06 2.06-.94-2.06-.94-.94-2.06-.94 2.06-2.06.94zm-11 1L8.5 8.5l.94-2.06 2.06-.94-2.06-.94L8.5 2.5l-.94 2.06-2.06.94zm10 10l.94 2.06.94-2.06 2.06-.94-2.06-.94-.94-2.06-.94 2.06-2.06.94z\"/><path d=\"M17.41 7.96l-1.37-1.37c-.4-.4-.92-.59-1.43-.59-.52 0-1.04.2-1.43.59L10.3 9.45l-7.72 7.72c-.78.78-.78 2.05 0 2.83L4 21.41c.39.39.9.59 1.41.59.51 0 1.02-.2 1.41-.59l7.78-7.78 2.81-2.81c.8-.78.8-2.07 0-2.86zM5.41 20L4 18.59l7.72-7.72 1.47 1.35L5.41 20z\"/>\n",
              "  </svg>\n",
              "      </button>\n",
              "      \n",
              "  <style>\n",
              "    .colab-df-container {\n",
              "      display:flex;\n",
              "      flex-wrap:wrap;\n",
              "      gap: 12px;\n",
              "    }\n",
              "\n",
              "    .colab-df-convert {\n",
              "      background-color: #E8F0FE;\n",
              "      border: none;\n",
              "      border-radius: 50%;\n",
              "      cursor: pointer;\n",
              "      display: none;\n",
              "      fill: #1967D2;\n",
              "      height: 32px;\n",
              "      padding: 0 0 0 0;\n",
              "      width: 32px;\n",
              "    }\n",
              "\n",
              "    .colab-df-convert:hover {\n",
              "      background-color: #E2EBFA;\n",
              "      box-shadow: 0px 1px 2px rgba(60, 64, 67, 0.3), 0px 1px 3px 1px rgba(60, 64, 67, 0.15);\n",
              "      fill: #174EA6;\n",
              "    }\n",
              "\n",
              "    [theme=dark] .colab-df-convert {\n",
              "      background-color: #3B4455;\n",
              "      fill: #D2E3FC;\n",
              "    }\n",
              "\n",
              "    [theme=dark] .colab-df-convert:hover {\n",
              "      background-color: #434B5C;\n",
              "      box-shadow: 0px 1px 3px 1px rgba(0, 0, 0, 0.15);\n",
              "      filter: drop-shadow(0px 1px 2px rgba(0, 0, 0, 0.3));\n",
              "      fill: #FFFFFF;\n",
              "    }\n",
              "  </style>\n",
              "\n",
              "      <script>\n",
              "        const buttonEl =\n",
              "          document.querySelector('#df-781c9dc7-aa75-423e-8aa4-75389933c9a7 button.colab-df-convert');\n",
              "        buttonEl.style.display =\n",
              "          google.colab.kernel.accessAllowed ? 'block' : 'none';\n",
              "\n",
              "        async function convertToInteractive(key) {\n",
              "          const element = document.querySelector('#df-781c9dc7-aa75-423e-8aa4-75389933c9a7');\n",
              "          const dataTable =\n",
              "            await google.colab.kernel.invokeFunction('convertToInteractive',\n",
              "                                                     [key], {});\n",
              "          if (!dataTable) return;\n",
              "\n",
              "          const docLinkHtml = 'Like what you see? Visit the ' +\n",
              "            '<a target=\"_blank\" href=https://colab.research.google.com/notebooks/data_table.ipynb>data table notebook</a>'\n",
              "            + ' to learn more about interactive tables.';\n",
              "          element.innerHTML = '';\n",
              "          dataTable['output_type'] = 'display_data';\n",
              "          await google.colab.output.renderOutput(dataTable, element);\n",
              "          const docLink = document.createElement('div');\n",
              "          docLink.innerHTML = docLinkHtml;\n",
              "          element.appendChild(docLink);\n",
              "        }\n",
              "      </script>\n",
              "    </div>\n",
              "  </div>\n",
              "  "
            ]
          },
          "metadata": {},
          "execution_count": 4
        }
      ],
      "source": [
        "data=pd.read_csv(\"/content/drug200.csv\")\n",
        "data.head()"
      ]
    },
    {
      "cell_type": "markdown",
      "source": [
        "Let's take a look at the data."
      ],
      "metadata": {
        "id": "BtnLgtdp6kQa"
      }
    },
    {
      "cell_type": "code",
      "source": [
        "print(\"Shape:\",data.shape)\n",
        "print(\"Info:\\n\",data.info)\n",
        "data.isnull().sum()"
      ],
      "metadata": {
        "colab": {
          "base_uri": "https://localhost:8080/"
        },
        "id": "DN9czJsq6cf9",
        "outputId": "53f6236e-f6b8-43ff-8bdd-9e124d833c1f"
      },
      "execution_count": 5,
      "outputs": [
        {
          "output_type": "stream",
          "name": "stdout",
          "text": [
            "Shape: (200, 6)\n",
            "Info:\n",
            " <bound method DataFrame.info of      Age Sex      BP Cholesterol  Na_to_K   Drug\n",
            "0     23   F    HIGH        HIGH   25.355  DrugY\n",
            "1     47   M     LOW        HIGH   13.093  drugC\n",
            "2     47   M     LOW        HIGH   10.114  drugC\n",
            "3     28   F  NORMAL        HIGH    7.798  drugX\n",
            "4     61   F     LOW        HIGH   18.043  DrugY\n",
            "..   ...  ..     ...         ...      ...    ...\n",
            "195   56   F     LOW        HIGH   11.567  drugC\n",
            "196   16   M     LOW        HIGH   12.006  drugC\n",
            "197   52   M  NORMAL        HIGH    9.894  drugX\n",
            "198   23   M  NORMAL      NORMAL   14.020  drugX\n",
            "199   40   F     LOW      NORMAL   11.349  drugX\n",
            "\n",
            "[200 rows x 6 columns]>\n"
          ]
        },
        {
          "output_type": "execute_result",
          "data": {
            "text/plain": [
              "Age            0\n",
              "Sex            0\n",
              "BP             0\n",
              "Cholesterol    0\n",
              "Na_to_K        0\n",
              "Drug           0\n",
              "dtype: int64"
            ]
          },
          "metadata": {},
          "execution_count": 5
        }
      ]
    },
    {
      "cell_type": "markdown",
      "source": [
        "Seems like there are no null values, so no need to handling missing data in here."
      ],
      "metadata": {
        "id": "7U2MrpuNX-C9"
      }
    },
    {
      "cell_type": "markdown",
      "source": [
        "### Exploratory Data Analysis"
      ],
      "metadata": {
        "id": "y1z4QNxShC4k"
      }
    },
    {
      "cell_type": "markdown",
      "source": [
        "Let's see how the parameters are correlated and visualizing with a heat map."
      ],
      "metadata": {
        "id": "A1zV3bPvvj9r"
      }
    },
    {
      "cell_type": "code",
      "source": [
        "correlation=data.corr()\n",
        "correlation\n",
        "sns.heatmap(correlation,annot=True)"
      ],
      "metadata": {
        "colab": {
          "base_uri": "https://localhost:8080/",
          "height": 287
        },
        "id": "L6ZZ_t-iNoc2",
        "outputId": "8d1e5617-5bc1-4a82-ff63-c1060333abdb"
      },
      "execution_count": 6,
      "outputs": [
        {
          "output_type": "execute_result",
          "data": {
            "text/plain": [
              "<Axes: >"
            ]
          },
          "metadata": {},
          "execution_count": 6
        },
        {
          "output_type": "display_data",
          "data": {
            "text/plain": [
              "<Figure size 432x288 with 2 Axes>"
            ],
            "image/png": "[encoded data removed]"
          },
          "metadata": {
            "needs_background": "light"
          }
        }
      ]
    },
    {
      "cell_type": "code",
      "source": [
        "def age_grp(x):\n",
        "    if x <= 20 :\n",
        "        x= '18-20'\n",
        "    elif x >20 and x <=30:\n",
        "        x= '21-30'\n",
        "    elif x >30 and x <=40:\n",
        "        x= '31-40'\n",
        "    elif x >40 and x <=50:\n",
        "        x= '41-50'\n",
        "    elif x >50 and x <=60:\n",
        "        x= '51-60'\n",
        "    elif x >60 and x <=70:\n",
        "        x= '61-70'\n",
        "    else:\n",
        "        x= '71+'\n",
        "    return x"
      ],
      "metadata": {
        "id": "8HTJRf59YkiI"
      },
      "execution_count": 7,
      "outputs": []
    },
    {
      "cell_type": "code",
      "source": [
        "data['age_group']=data['Age'].apply(age_grp)\n",
        "data.groupby('age_group')['Sex'].value_counts()"
      ],
      "metadata": {
        "colab": {
          "base_uri": "https://localhost:8080/"
        },
        "id": "jQQ4GGUXYlpx",
        "outputId": "bcc30ac2-643f-47a9-ce33-cc1424f8390f"
      },
      "execution_count": 8,
      "outputs": [
        {
          "output_type": "execute_result",
          "data": {
            "text/plain": [
              "age_group  Sex\n",
              "18-20      F      10\n",
              "           M       6\n",
              "21-30      F      17\n",
              "           M      15\n",
              "31-40      F      22\n",
              "           M      17\n",
              "41-50      M      25\n",
              "           F      15\n",
              "51-60      M      17\n",
              "           F      16\n",
              "61-70      M      18\n",
              "           F      12\n",
              "71+        M       6\n",
              "           F       4\n",
              "Name: Sex, dtype: int64"
            ]
          },
          "metadata": {},
          "execution_count": 8
        }
      ]
    },
    {
      "cell_type": "code",
      "source": [
        "sns.countplot(x='age_group', data=data)\n",
        "data['Sex'].value_counts()"
      ],
      "metadata": {
        "colab": {
          "base_uri": "https://localhost:8080/",
          "height": 331
        },
        "id": "DaxYi682Ytwf",
        "outputId": "f0b9b4c7-2e33-49a6-f400-32768354c191"
      },
      "execution_count": 9,
      "outputs": [
        {
          "output_type": "execute_result",
          "data": {
            "text/plain": [
              "M    104\n",
              "F     96\n",
              "Name: Sex, dtype: int64"
            ]
          },
          "metadata": {},
          "execution_count": 9
        },
        {
          "output_type": "display_data",
          "data": {
            "text/plain": [
              "<Figure size 432x288 with 1 Axes>"
            ],
            "image/png": "[encoded data removed]"
          },
          "metadata": {
            "needs_background": "light"
          }
        }
      ]
    },
    {
      "cell_type": "code",
      "source": [
        "colors=['Blue','Red']\n",
        "data.Sex.value_counts().plot.pie(autopct='%1.1f%%',colors=colors)\n",
        "plt.show()"
      ],
      "metadata": {
        "colab": {
          "base_uri": "https://localhost:8080/",
          "height": 248
        },
        "id": "hWe-vaBNYzYm",
        "outputId": "f73ec386-1710-420f-cc89-99c9b8e95df8"
      },
      "execution_count": 10,
      "outputs": [
        {
          "output_type": "display_data",
          "data": {
            "text/plain": [
              "<Figure size 432x288 with 1 Axes>"
            ],
            "image/png": "[encoded data removed]"
          },
          "metadata": {}
        }
      ]
    },
    {
      "cell_type": "code",
      "source": [
        "sns.countplot(x='Sex', data=data)"
      ],
      "metadata": {
        "colab": {
          "base_uri": "https://localhost:8080/",
          "height": 296
        },
        "id": "zNzwQ4m1Y1-5",
        "outputId": "bad799e3-c89a-42c7-fde6-35339ddde81f"
      },
      "execution_count": 11,
      "outputs": [
        {
          "output_type": "execute_result",
          "data": {
            "text/plain": [
              "<Axes: xlabel='Sex', ylabel='count'>"
            ]
          },
          "metadata": {},
          "execution_count": 11
        },
        {
          "output_type": "display_data",
          "data": {
            "text/plain": [
              "<Figure size 432x288 with 1 Axes>"
            ],
            "image/png": "[encoded data removed]"
          },
          "metadata": {
            "needs_background": "light"
          }
        }
      ]
    },
    {
      "cell_type": "code",
      "source": [
        "print(data['Drug'].value_counts())\n",
        "sns.countplot(x='Drug', data=data)"
      ],
      "metadata": {
        "colab": {
          "base_uri": "https://localhost:8080/",
          "height": 401
        },
        "id": "zMjdI-1oY43G",
        "outputId": "7281ad61-535c-4113-d286-b13d42c656f6"
      },
      "execution_count": 12,
      "outputs": [
        {
          "output_type": "stream",
          "name": "stdout",
          "text": [
            "DrugY    91\n",
            "drugX    54\n",
            "drugA    23\n",
            "drugC    16\n",
            "drugB    16\n",
            "Name: Drug, dtype: int64\n"
          ]
        },
        {
          "output_type": "execute_result",
          "data": {
            "text/plain": [
              "<Axes: xlabel='Drug', ylabel='count'>"
            ]
          },
          "metadata": {},
          "execution_count": 12
        },
        {
          "output_type": "display_data",
          "data": {
            "text/plain": [
              "<Figure size 432x288 with 1 Axes>"
            ],
            "image/png": "[encoded data removed]"
          },
          "metadata": {
            "needs_background": "light"
          }
        }
      ]
    },
    {
      "cell_type": "code",
      "source": [
        "sns.countplot(x='Cholesterol', data=data)\n",
        "data['Cholesterol'].value_counts()"
      ],
      "metadata": {
        "colab": {
          "base_uri": "https://localhost:8080/",
          "height": 331
        },
        "id": "bq98jArbY9jU",
        "outputId": "c63f604b-45db-4297-9da0-3fd48bbe4412"
      },
      "execution_count": 13,
      "outputs": [
        {
          "output_type": "execute_result",
          "data": {
            "text/plain": [
              "HIGH      103\n",
              "NORMAL     97\n",
              "Name: Cholesterol, dtype: int64"
            ]
          },
          "metadata": {},
          "execution_count": 13
        },
        {
          "output_type": "display_data",
          "data": {
            "text/plain": [
              "<Figure size 432x288 with 1 Axes>"
            ],
            "image/png": "[encoded data removed]"
          },
          "metadata": {
            "needs_background": "light"
          }
        }
      ]
    },
    {
      "cell_type": "code",
      "source": [
        "colors=['red','Blue']\n",
        "data.Cholesterol.value_counts().plot.pie(autopct='%1.1f%%',colors=colors)\n",
        "plt.show()"
      ],
      "metadata": {
        "colab": {
          "base_uri": "https://localhost:8080/",
          "height": 248
        },
        "id": "WcqLYYIJZCdO",
        "outputId": "8b187c2f-aeb7-4e8a-da4b-e1bb02932008"
      },
      "execution_count": 14,
      "outputs": [
        {
          "output_type": "display_data",
          "data": {
            "text/plain": [
              "<Figure size 432x288 with 1 Axes>"
            ],
            "image/png": "[encoded data removed]"
          },
          "metadata": {}
        }
      ]
    },
    {
      "cell_type": "code",
      "source": [
        "data['Drug'].value_counts()\n",
        "plt.figure(figsize=(5,5))\n",
        "sns.countplot(x='Drug', data=data)"
      ],
      "metadata": {
        "colab": {
          "base_uri": "https://localhost:8080/",
          "height": 351
        },
        "id": "hyWO6k9KZF4s",
        "outputId": "3ab03cfb-0401-404d-9623-95f47f3acec2"
      },
      "execution_count": 15,
      "outputs": [
        {
          "output_type": "execute_result",
          "data": {
            "text/plain": [
              "<Axes: xlabel='Drug', ylabel='count'>"
            ]
          },
          "metadata": {},
          "execution_count": 15
        },
        {
          "output_type": "display_data",
          "data": {
            "text/plain": [
              "<Figure size 360x360 with 1 Axes>"
            ],
            "image/png": "[encoded data removed]"
          },
          "metadata": {
            "needs_background": "light"
          }
        }
      ]
    },
    {
      "cell_type": "markdown",
      "source": [
        "### *Tasks:*\n",
        "1. Try out other plots like histograms, scatter plots,colour maps, and so on. Write down what you've observed with each of your EDA plots and your understanding of the data.\n",
        "2. Uncomment the below code and Analyse the data given write some analysis below that cell."
      ],
      "metadata": {
        "id": "h4ias4E_xiYW"
      }
    },
    {
      "cell_type": "code",
      "source": [
        "# eda = pandas_profiling.ProfileReport(data)\n",
        "# eda"
      ],
      "metadata": {
        "id": "dzuMXpli6sWC"
      },
      "execution_count": 16,
      "outputs": []
    },
    {
      "cell_type": "markdown",
      "source": [
        "### Preprocessing"
      ],
      "metadata": {
        "id": "580cE23Pbp3C"
      }
    },
    {
      "cell_type": "code",
      "source": [
        "label_encoder=preprocessing.LabelEncoder()\n",
        "data['Sex']= label_encoder.fit_transform (data['Sex'])\n",
        "data['Cholesterol']= label_encoder.fit_transform (data['Cholesterol'])\n",
        "data['Drug']= label_encoder.fit_transform (data['Drug'])"
      ],
      "metadata": {
        "id": "Jg4BldjEOS0a"
      },
      "execution_count": 17,
      "outputs": []
    },
    {
      "cell_type": "code",
      "source": [
        "data.describe().T\n"
      ],
      "metadata": {
        "colab": {
          "base_uri": "https://localhost:8080/",
          "height": 206
        },
        "id": "WnkxDCaTNEMg",
        "outputId": "59682225-bab9-4c93-d3f6-ad7545cf579f"
      },
      "execution_count": 18,
      "outputs": [
        {
          "output_type": "execute_result",
          "data": {
            "text/plain": [
              "             count       mean        std     min      25%      50%    75%  \\\n",
              "Age          200.0  44.315000  16.544315  15.000  31.0000  45.0000  58.00   \n",
              "Sex          200.0   0.520000   0.500854   0.000   0.0000   1.0000   1.00   \n",
              "Cholesterol  200.0   0.485000   0.501029   0.000   0.0000   0.0000   1.00   \n",
              "Na_to_K      200.0  16.084485   7.223956   6.269  10.4455  13.9365  19.38   \n",
              "Drug         200.0   1.595000   1.716305   0.000   0.0000   1.0000   4.00   \n",
              "\n",
              "                max  \n",
              "Age          74.000  \n",
              "Sex           1.000  \n",
              "Cholesterol   1.000  \n",
              "Na_to_K      38.247  \n",
              "Drug          4.000  "
            ],
            "text/html": [
              "\n",
              "  <div id=\"df-62dfbfda-e64f-4c02-a167-0200edcb3c38\">\n",
              "    <div class=\"colab-df-container\">\n",
              "      <div>\n",
              "<style scoped>\n",
              "    .dataframe tbody tr th:only-of-type {\n",
              "        vertical-align: middle;\n",
              "    }\n",
              "\n",
              "    .dataframe tbody tr th {\n",
              "        vertical-align: top;\n",
              "    }\n",
              "\n",
              "    .dataframe thead th {\n",
              "        text-align: right;\n",
              "    }\n",
              "</style>\n",
              "<table border=\"1\" class=\"dataframe\">\n",
              "  <thead>\n",
              "    <tr style=\"text-align: right;\">\n",
              "      <th></th>\n",
              "      <th>count</th>\n",
              "      <th>mean</th>\n",
              "      <th>std</th>\n",
              "      <th>min</th>\n",
              "      <th>25%</th>\n",
              "      <th>50%</th>\n",
              "      <th>75%</th>\n",
              "      <th>max</th>\n",
              "    </tr>\n",
              "  </thead>\n",
              "  <tbody>\n",
              "    <tr>\n",
              "      <th>Age</th>\n",
              "      <td>200.0</td>\n",
              "      <td>44.315000</td>\n",
              "      <td>16.544315</td>\n",
              "      <td>15.000</td>\n",
              "      <td>31.0000</td>\n",
              "      <td>45.0000</td>\n",
              "      <td>58.00</td>\n",
              "      <td>74.000</td>\n",
              "    </tr>\n",
              "    <tr>\n",
              "      <th>Sex</th>\n",
              "      <td>200.0</td>\n",
              "      <td>0.520000</td>\n",
              "      <td>0.500854</td>\n",
              "      <td>0.000</td>\n",
              "      <td>0.0000</td>\n",
              "      <td>1.0000</td>\n",
              "      <td>1.00</td>\n",
              "      <td>1.000</td>\n",
              "    </tr>\n",
              "    <tr>\n",
              "      <th>Cholesterol</th>\n",
              "      <td>200.0</td>\n",
              "      <td>0.485000</td>\n",
              "      <td>0.501029</td>\n",
              "      <td>0.000</td>\n",
              "      <td>0.0000</td>\n",
              "      <td>0.0000</td>\n",
              "      <td>1.00</td>\n",
              "      <td>1.000</td>\n",
              "    </tr>\n",
              "    <tr>\n",
              "      <th>Na_to_K</th>\n",
              "      <td>200.0</td>\n",
              "      <td>16.084485</td>\n",
              "      <td>7.223956</td>\n",
              "      <td>6.269</td>\n",
              "      <td>10.4455</td>\n",
              "      <td>13.9365</td>\n",
              "      <td>19.38</td>\n",
              "      <td>38.247</td>\n",
              "    </tr>\n",
              "    <tr>\n",
              "      <th>Drug</th>\n",
              "      <td>200.0</td>\n",
              "      <td>1.595000</td>\n",
              "      <td>1.716305</td>\n",
              "      <td>0.000</td>\n",
              "      <td>0.0000</td>\n",
              "      <td>1.0000</td>\n",
              "      <td>4.00</td>\n",
              "      <td>4.000</td>\n",
              "    </tr>\n",
              "  </tbody>\n",
              "</table>\n",
              "</div>\n",
              "      <button class=\"colab-df-convert\" onclick=\"convertToInteractive('df-62dfbfda-e64f-4c02-a167-0200edcb3c38')\"\n",
              "              title=\"Convert this dataframe to an interactive table.\"\n",
              "              style=\"display:none;\">\n",
              "        \n",
              "  <svg xmlns=\"http://www.w3.org/2000/svg\" height=\"24px\"viewBox=\"0 0 24 24\"\n",
              "       width=\"24px\">\n",
              "    <path d=\"M0 0h24v24H0V0z\" fill=\"none\"/>\n",
              "    <path d=\"M18.56 5.44l.94 2.06.94-2.06 2.06-.94-2.06-.94-.94-2.06-.94 2.06-2.06.94zm-11 1L8.5 8.5l.94-2.06 2.06-.94-2.06-.94L8.5 2.5l-.94 2.06-2.06.94zm10 10l.94 2.06.94-2.06 2.06-.94-2.06-.94-.94-2.06-.94 2.06-2.06.94z\"/><path d=\"M17.41 7.96l-1.37-1.37c-.4-.4-.92-.59-1.43-.59-.52 0-1.04.2-1.43.59L10.3 9.45l-7.72 7.72c-.78.78-.78 2.05 0 2.83L4 21.41c.39.39.9.59 1.41.59.51 0 1.02-.2 1.41-.59l7.78-7.78 2.81-2.81c.8-.78.8-2.07 0-2.86zM5.41 20L4 18.59l7.72-7.72 1.47 1.35L5.41 20z\"/>\n",
              "  </svg>\n",
              "      </button>\n",
              "      \n",
              "  <style>\n",
              "    .colab-df-container {\n",
              "      display:flex;\n",
              "      flex-wrap:wrap;\n",
              "      gap: 12px;\n",
              "    }\n",
              "\n",
              "    .colab-df-convert {\n",
              "      background-color: #E8F0FE;\n",
              "      border: none;\n",
              "      border-radius: 50%;\n",
              "      cursor: pointer;\n",
              "      display: none;\n",
              "      fill: #1967D2;\n",
              "      height: 32px;\n",
              "      padding: 0 0 0 0;\n",
              "      width: 32px;\n",
              "    }\n",
              "\n",
              "    .colab-df-convert:hover {\n",
              "      background-color: #E2EBFA;\n",
              "      box-shadow: 0px 1px 2px rgba(60, 64, 67, 0.3), 0px 1px 3px 1px rgba(60, 64, 67, 0.15);\n",
              "      fill: #174EA6;\n",
              "    }\n",
              "\n",
              "    [theme=dark] .colab-df-convert {\n",
              "      background-color: #3B4455;\n",
              "      fill: #D2E3FC;\n",
              "    }\n",
              "\n",
              "    [theme=dark] .colab-df-convert:hover {\n",
              "      background-color: #434B5C;\n",
              "      box-shadow: 0px 1px 3px 1px rgba(0, 0, 0, 0.15);\n",
              "      filter: drop-shadow(0px 1px 2px rgba(0, 0, 0, 0.3));\n",
              "      fill: #FFFFFF;\n",
              "    }\n",
              "  </style>\n",
              "\n",
              "      <script>\n",
              "        const buttonEl =\n",
              "          document.querySelector('#df-62dfbfda-e64f-4c02-a167-0200edcb3c38 button.colab-df-convert');\n",
              "        buttonEl.style.display =\n",
              "          google.colab.kernel.accessAllowed ? 'block' : 'none';\n",
              "\n",
              "        async function convertToInteractive(key) {\n",
              "          const element = document.querySelector('#df-62dfbfda-e64f-4c02-a167-0200edcb3c38');\n",
              "          const dataTable =\n",
              "            await google.colab.kernel.invokeFunction('convertToInteractive',\n",
              "                                                     [key], {});\n",
              "          if (!dataTable) return;\n",
              "\n",
              "          const docLinkHtml = 'Like what you see? Visit the ' +\n",
              "            '<a target=\"_blank\" href=https://colab.research.google.com/notebooks/data_table.ipynb>data table notebook</a>'\n",
              "            + ' to learn more about interactive tables.';\n",
              "          element.innerHTML = '';\n",
              "          dataTable['output_type'] = 'display_data';\n",
              "          await google.colab.output.renderOutput(dataTable, element);\n",
              "          const docLink = document.createElement('div');\n",
              "          docLink.innerHTML = docLinkHtml;\n",
              "          element.appendChild(docLink);\n",
              "        }\n",
              "      </script>\n",
              "    </div>\n",
              "  </div>\n",
              "  "
            ]
          },
          "metadata": {},
          "execution_count": 18
        }
      ]
    },
    {
      "cell_type": "code",
      "source": [
        "data['BP'] = pd.Categorical(data['BP'])\n",
        "dfDummiess = pd.get_dummies(data['BP'], prefix = 'BP')\n",
        "dfDummiess"
      ],
      "metadata": {
        "colab": {
          "base_uri": "https://localhost:8080/",
          "height": 424
        },
        "id": "V7ZEka1xO7M9",
        "outputId": "62a10def-067e-4bf2-c5a5-f0bfc12ea377"
      },
      "execution_count": 19,
      "outputs": [
        {
          "output_type": "execute_result",
          "data": {
            "text/plain": [
              "     BP_HIGH  BP_LOW  BP_NORMAL\n",
              "0          1       0          0\n",
              "1          0       1          0\n",
              "2          0       1          0\n",
              "3          0       0          1\n",
              "4          0       1          0\n",
              "..       ...     ...        ...\n",
              "195        0       1          0\n",
              "196        0       1          0\n",
              "197        0       0          1\n",
              "198        0       0          1\n",
              "199        0       1          0\n",
              "\n",
              "[200 rows x 3 columns]"
            ],
            "text/html": [
              "\n",
              "  <div id=\"df-adb8e31e-fdd9-482f-8c9a-6597f83a1a17\">\n",
              "    <div class=\"colab-df-container\">\n",
              "      <div>\n",
              "<style scoped>\n",
              "    .dataframe tbody tr th:only-of-type {\n",
              "        vertical-align: middle;\n",
              "    }\n",
              "\n",
              "    .dataframe tbody tr th {\n",
              "        vertical-align: top;\n",
              "    }\n",
              "\n",
              "    .dataframe thead th {\n",
              "        text-align: right;\n",
              "    }\n",
              "</style>\n",
              "<table border=\"1\" class=\"dataframe\">\n",
              "  <thead>\n",
              "    <tr style=\"text-align: right;\">\n",
              "      <th></th>\n",
              "      <th>BP_HIGH</th>\n",
              "      <th>BP_LOW</th>\n",
              "      <th>BP_NORMAL</th>\n",
              "    </tr>\n",
              "  </thead>\n",
              "  <tbody>\n",
              "    <tr>\n",
              "      <th>0</th>\n",
              "      <td>1</td>\n",
              "      <td>0</td>\n",
              "      <td>0</td>\n",
              "    </tr>\n",
              "    <tr>\n",
              "      <th>1</th>\n",
              "      <td>0</td>\n",
              "      <td>1</td>\n",
              "      <td>0</td>\n",
              "    </tr>\n",
              "    <tr>\n",
              "      <th>2</th>\n",
              "      <td>0</td>\n",
              "      <td>1</td>\n",
              "      <td>0</td>\n",
              "    </tr>\n",
              "    <tr>\n",
              "      <th>3</th>\n",
              "      <td>0</td>\n",
              "      <td>0</td>\n",
              "      <td>1</td>\n",
              "    </tr>\n",
              "    <tr>\n",
              "      <th>4</th>\n",
              "      <td>0</td>\n",
              "      <td>1</td>\n",
              "      <td>0</td>\n",
              "    </tr>\n",
              "    <tr>\n",
              "      <th>...</th>\n",
              "      <td>...</td>\n",
              "      <td>...</td>\n",
              "      <td>...</td>\n",
              "    </tr>\n",
              "    <tr>\n",
              "      <th>195</th>\n",
              "      <td>0</td>\n",
              "      <td>1</td>\n",
              "      <td>0</td>\n",
              "    </tr>\n",
              "    <tr>\n",
              "      <th>196</th>\n",
              "      <td>0</td>\n",
              "      <td>1</td>\n",
              "      <td>0</td>\n",
              "    </tr>\n",
              "    <tr>\n",
              "      <th>197</th>\n",
              "      <td>0</td>\n",
              "      <td>0</td>\n",
              "      <td>1</td>\n",
              "    </tr>\n",
              "    <tr>\n",
              "      <th>198</th>\n",
              "      <td>0</td>\n",
              "      <td>0</td>\n",
              "      <td>1</td>\n",
              "    </tr>\n",
              "    <tr>\n",
              "      <th>199</th>\n",
              "      <td>0</td>\n",
              "      <td>1</td>\n",
              "      <td>0</td>\n",
              "    </tr>\n",
              "  </tbody>\n",
              "</table>\n",
              "<p>200 rows × 3 columns</p>\n",
              "</div>\n",
              "      <button class=\"colab-df-convert\" onclick=\"convertToInteractive('df-adb8e31e-fdd9-482f-8c9a-6597f83a1a17')\"\n",
              "              title=\"Convert this dataframe to an interactive table.\"\n",
              "              style=\"display:none;\">\n",
              "        \n",
              "  <svg xmlns=\"http://www.w3.org/2000/svg\" height=\"24px\"viewBox=\"0 0 24 24\"\n",
              "       width=\"24px\">\n",
              "    <path d=\"M0 0h24v24H0V0z\" fill=\"none\"/>\n",
              "    <path d=\"M18.56 5.44l.94 2.06.94-2.06 2.06-.94-2.06-.94-.94-2.06-.94 2.06-2.06.94zm-11 1L8.5 8.5l.94-2.06 2.06-.94-2.06-.94L8.5 2.5l-.94 2.06-2.06.94zm10 10l.94 2.06.94-2.06 2.06-.94-2.06-.94-.94-2.06-.94 2.06-2.06.94z\"/><path d=\"M17.41 7.96l-1.37-1.37c-.4-.4-.92-.59-1.43-.59-.52 0-1.04.2-1.43.59L10.3 9.45l-7.72 7.72c-.78.78-.78 2.05 0 2.83L4 21.41c.39.39.9.59 1.41.59.51 0 1.02-.2 1.41-.59l7.78-7.78 2.81-2.81c.8-.78.8-2.07 0-2.86zM5.41 20L4 18.59l7.72-7.72 1.47 1.35L5.41 20z\"/>\n",
              "  </svg>\n",
              "      </button>\n",
              "      \n",
              "  <style>\n",
              "    .colab-df-container {\n",
              "      display:flex;\n",
              "      flex-wrap:wrap;\n",
              "      gap: 12px;\n",
              "    }\n",
              "\n",
              "    .colab-df-convert {\n",
              "      background-color: #E8F0FE;\n",
              "      border: none;\n",
              "      border-radius: 50%;\n",
              "      cursor: pointer;\n",
              "      display: none;\n",
              "      fill: #1967D2;\n",
              "      height: 32px;\n",
              "      padding: 0 0 0 0;\n",
              "      width: 32px;\n",
              "    }\n",
              "\n",
              "    .colab-df-convert:hover {\n",
              "      background-color: #E2EBFA;\n",
              "      box-shadow: 0px 1px 2px rgba(60, 64, 67, 0.3), 0px 1px 3px 1px rgba(60, 64, 67, 0.15);\n",
              "      fill: #174EA6;\n",
              "    }\n",
              "\n",
              "    [theme=dark] .colab-df-convert {\n",
              "      background-color: #3B4455;\n",
              "      fill: #D2E3FC;\n",
              "    }\n",
              "\n",
              "    [theme=dark] .colab-df-convert:hover {\n",
              "      background-color: #434B5C;\n",
              "      box-shadow: 0px 1px 3px 1px rgba(0, 0, 0, 0.15);\n",
              "      filter: drop-shadow(0px 1px 2px rgba(0, 0, 0, 0.3));\n",
              "      fill: #FFFFFF;\n",
              "    }\n",
              "  </style>\n",
              "\n",
              "      <script>\n",
              "        const buttonEl =\n",
              "          document.querySelector('#df-adb8e31e-fdd9-482f-8c9a-6597f83a1a17 button.colab-df-convert');\n",
              "        buttonEl.style.display =\n",
              "          google.colab.kernel.accessAllowed ? 'block' : 'none';\n",
              "\n",
              "        async function convertToInteractive(key) {\n",
              "          const element = document.querySelector('#df-adb8e31e-fdd9-482f-8c9a-6597f83a1a17');\n",
              "          const dataTable =\n",
              "            await google.colab.kernel.invokeFunction('convertToInteractive',\n",
              "                                                     [key], {});\n",
              "          if (!dataTable) return;\n",
              "\n",
              "          const docLinkHtml = 'Like what you see? Visit the ' +\n",
              "            '<a target=\"_blank\" href=https://colab.research.google.com/notebooks/data_table.ipynb>data table notebook</a>'\n",
              "            + ' to learn more about interactive tables.';\n",
              "          element.innerHTML = '';\n",
              "          dataTable['output_type'] = 'display_data';\n",
              "          await google.colab.output.renderOutput(dataTable, element);\n",
              "          const docLink = document.createElement('div');\n",
              "          docLink.innerHTML = docLinkHtml;\n",
              "          element.appendChild(docLink);\n",
              "        }\n",
              "      </script>\n",
              "    </div>\n",
              "  </div>\n",
              "  "
            ]
          },
          "metadata": {},
          "execution_count": 19
        }
      ]
    },
    {
      "cell_type": "code",
      "source": [
        "data = pd.concat([data,dfDummiess], axis=1)\n",
        "data = data.drop([\"BP\"], axis = 1)"
      ],
      "metadata": {
        "id": "3qFPjoquPLrv"
      },
      "execution_count": 20,
      "outputs": []
    },
    {
      "cell_type": "code",
      "source": [
        "data"
      ],
      "metadata": {
        "colab": {
          "base_uri": "https://localhost:8080/",
          "height": 424
        },
        "id": "ggDtFMqmP9rZ",
        "outputId": "87448a07-234a-49a7-c560-3c0033dc3077"
      },
      "execution_count": 21,
      "outputs": [
        {
          "output_type": "execute_result",
          "data": {
            "text/plain": [
              "     Age  Sex  Cholesterol  Na_to_K  Drug age_group  BP_HIGH  BP_LOW  \\\n",
              "0     23    0            0   25.355     0     21-30        1       0   \n",
              "1     47    1            0   13.093     3     41-50        0       1   \n",
              "2     47    1            0   10.114     3     41-50        0       1   \n",
              "3     28    0            0    7.798     4     21-30        0       0   \n",
              "4     61    0            0   18.043     0     61-70        0       1   \n",
              "..   ...  ...          ...      ...   ...       ...      ...     ...   \n",
              "195   56    0            0   11.567     3     51-60        0       1   \n",
              "196   16    1            0   12.006     3     18-20        0       1   \n",
              "197   52    1            0    9.894     4     51-60        0       0   \n",
              "198   23    1            1   14.020     4     21-30        0       0   \n",
              "199   40    0            1   11.349     4     31-40        0       1   \n",
              "\n",
              "     BP_NORMAL  \n",
              "0            0  \n",
              "1            0  \n",
              "2            0  \n",
              "3            1  \n",
              "4            0  \n",
              "..         ...  \n",
              "195          0  \n",
              "196          0  \n",
              "197          1  \n",
              "198          1  \n",
              "199          0  \n",
              "\n",
              "[200 rows x 9 columns]"
            ],
            "text/html": [
              "\n",
              "  <div id=\"df-00c46e86-3eb3-4cfd-b464-dabb9c09ba90\">\n",
              "    <div class=\"colab-df-container\">\n",
              "      <div>\n",
              "<style scoped>\n",
              "    .dataframe tbody tr th:only-of-type {\n",
              "        vertical-align: middle;\n",
              "    }\n",
              "\n",
              "    .dataframe tbody tr th {\n",
              "        vertical-align: top;\n",
              "    }\n",
              "\n",
              "    .dataframe thead th {\n",
              "        text-align: right;\n",
              "    }\n",
              "</style>\n",
              "<table border=\"1\" class=\"dataframe\">\n",
              "  <thead>\n",
              "    <tr style=\"text-align: right;\">\n",
              "      <th></th>\n",
              "      <th>Age</th>\n",
              "      <th>Sex</th>\n",
              "      <th>Cholesterol</th>\n",
              "      <th>Na_to_K</th>\n",
              "      <th>Drug</th>\n",
              "      <th>age_group</th>\n",
              "      <th>BP_HIGH</th>\n",
              "      <th>BP_LOW</th>\n",
              "      <th>BP_NORMAL</th>\n",
              "    </tr>\n",
              "  </thead>\n",
              "  <tbody>\n",
              "    <tr>\n",
              "      <th>0</th>\n",
              "      <td>23</td>\n",
              "      <td>0</td>\n",
              "      <td>0</td>\n",
              "      <td>25.355</td>\n",
              "      <td>0</td>\n",
              "      <td>21-30</td>\n",
              "      <td>1</td>\n",
              "      <td>0</td>\n",
              "      <td>0</td>\n",
              "    </tr>\n",
              "    <tr>\n",
              "      <th>1</th>\n",
              "      <td>47</td>\n",
              "      <td>1</td>\n",
              "      <td>0</td>\n",
              "      <td>13.093</td>\n",
              "      <td>3</td>\n",
              "      <td>41-50</td>\n",
              "      <td>0</td>\n",
              "      <td>1</td>\n",
              "      <td>0</td>\n",
              "    </tr>\n",
              "    <tr>\n",
              "      <th>2</th>\n",
              "      <td>47</td>\n",
              "      <td>1</td>\n",
              "      <td>0</td>\n",
              "      <td>10.114</td>\n",
              "      <td>3</td>\n",
              "      <td>41-50</td>\n",
              "      <td>0</td>\n",
              "      <td>1</td>\n",
              "      <td>0</td>\n",
              "    </tr>\n",
              "    <tr>\n",
              "      <th>3</th>\n",
              "      <td>28</td>\n",
              "      <td>0</td>\n",
              "      <td>0</td>\n",
              "      <td>7.798</td>\n",
              "      <td>4</td>\n",
              "      <td>21-30</td>\n",
              "      <td>0</td>\n",
              "      <td>0</td>\n",
              "      <td>1</td>\n",
              "    </tr>\n",
              "    <tr>\n",
              "      <th>4</th>\n",
              "      <td>61</td>\n",
              "      <td>0</td>\n",
              "      <td>0</td>\n",
              "      <td>18.043</td>\n",
              "      <td>0</td>\n",
              "      <td>61-70</td>\n",
              "      <td>0</td>\n",
              "      <td>1</td>\n",
              "      <td>0</td>\n",
              "    </tr>\n",
              "    <tr>\n",
              "      <th>...</th>\n",
              "      <td>...</td>\n",
              "      <td>...</td>\n",
              "      <td>...</td>\n",
              "      <td>...</td>\n",
              "      <td>...</td>\n",
              "      <td>...</td>\n",
              "      <td>...</td>\n",
              "      <td>...</td>\n",
              "      <td>...</td>\n",
              "    </tr>\n",
              "    <tr>\n",
              "      <th>195</th>\n",
              "      <td>56</td>\n",
              "      <td>0</td>\n",
              "      <td>0</td>\n",
              "      <td>11.567</td>\n",
              "      <td>3</td>\n",
              "      <td>51-60</td>\n",
              "      <td>0</td>\n",
              "      <td>1</td>\n",
              "      <td>0</td>\n",
              "    </tr>\n",
              "    <tr>\n",
              "      <th>196</th>\n",
              "      <td>16</td>\n",
              "      <td>1</td>\n",
              "      <td>0</td>\n",
              "      <td>12.006</td>\n",
              "      <td>3</td>\n",
              "      <td>18-20</td>\n",
              "      <td>0</td>\n",
              "      <td>1</td>\n",
              "      <td>0</td>\n",
              "    </tr>\n",
              "    <tr>\n",
              "      <th>197</th>\n",
              "      <td>52</td>\n",
              "      <td>1</td>\n",
              "      <td>0</td>\n",
              "      <td>9.894</td>\n",
              "      <td>4</td>\n",
              "      <td>51-60</td>\n",
              "      <td>0</td>\n",
              "      <td>0</td>\n",
              "      <td>1</td>\n",
              "    </tr>\n",
              "    <tr>\n",
              "      <th>198</th>\n",
              "      <td>23</td>\n",
              "      <td>1</td>\n",
              "      <td>1</td>\n",
              "      <td>14.020</td>\n",
              "      <td>4</td>\n",
              "      <td>21-30</td>\n",
              "      <td>0</td>\n",
              "      <td>0</td>\n",
              "      <td>1</td>\n",
              "    </tr>\n",
              "    <tr>\n",
              "      <th>199</th>\n",
              "      <td>40</td>\n",
              "      <td>0</td>\n",
              "      <td>1</td>\n",
              "      <td>11.349</td>\n",
              "      <td>4</td>\n",
              "      <td>31-40</td>\n",
              "      <td>0</td>\n",
              "      <td>1</td>\n",
              "      <td>0</td>\n",
              "    </tr>\n",
              "  </tbody>\n",
              "</table>\n",
              "<p>200 rows × 9 columns</p>\n",
              "</div>\n",
              "      <button class=\"colab-df-convert\" onclick=\"convertToInteractive('df-00c46e86-3eb3-4cfd-b464-dabb9c09ba90')\"\n",
              "              title=\"Convert this dataframe to an interactive table.\"\n",
              "              style=\"display:none;\">\n",
              "        \n",
              "  <svg xmlns=\"http://www.w3.org/2000/svg\" height=\"24px\"viewBox=\"0 0 24 24\"\n",
              "       width=\"24px\">\n",
              "    <path d=\"M0 0h24v24H0V0z\" fill=\"none\"/>\n",
              "    <path d=\"M18.56 5.44l.94 2.06.94-2.06 2.06-.94-2.06-.94-.94-2.06-.94 2.06-2.06.94zm-11 1L8.5 8.5l.94-2.06 2.06-.94-2.06-.94L8.5 2.5l-.94 2.06-2.06.94zm10 10l.94 2.06.94-2.06 2.06-.94-2.06-.94-.94-2.06-.94 2.06-2.06.94z\"/><path d=\"M17.41 7.96l-1.37-1.37c-.4-.4-.92-.59-1.43-.59-.52 0-1.04.2-1.43.59L10.3 9.45l-7.72 7.72c-.78.78-.78 2.05 0 2.83L4 21.41c.39.39.9.59 1.41.59.51 0 1.02-.2 1.41-.59l7.78-7.78 2.81-2.81c.8-.78.8-2.07 0-2.86zM5.41 20L4 18.59l7.72-7.72 1.47 1.35L5.41 20z\"/>\n",
              "  </svg>\n",
              "      </button>\n",
              "      \n",
              "  <style>\n",
              "    .colab-df-container {\n",
              "      display:flex;\n",
              "      flex-wrap:wrap;\n",
              "      gap: 12px;\n",
              "    }\n",
              "\n",
              "    .colab-df-convert {\n",
              "      background-color: #E8F0FE;\n",
              "      border: none;\n",
              "      border-radius: 50%;\n",
              "      cursor: pointer;\n",
              "      display: none;\n",
              "      fill: #1967D2;\n",
              "      height: 32px;\n",
              "      padding: 0 0 0 0;\n",
              "      width: 32px;\n",
              "    }\n",
              "\n",
              "    .colab-df-convert:hover {\n",
              "      background-color: #E2EBFA;\n",
              "      box-shadow: 0px 1px 2px rgba(60, 64, 67, 0.3), 0px 1px 3px 1px rgba(60, 64, 67, 0.15);\n",
              "      fill: #174EA6;\n",
              "    }\n",
              "\n",
              "    [theme=dark] .colab-df-convert {\n",
              "      background-color: #3B4455;\n",
              "      fill: #D2E3FC;\n",
              "    }\n",
              "\n",
              "    [theme=dark] .colab-df-convert:hover {\n",
              "      background-color: #434B5C;\n",
              "      box-shadow: 0px 1px 3px 1px rgba(0, 0, 0, 0.15);\n",
              "      filter: drop-shadow(0px 1px 2px rgba(0, 0, 0, 0.3));\n",
              "      fill: #FFFFFF;\n",
              "    }\n",
              "  </style>\n",
              "\n",
              "      <script>\n",
              "        const buttonEl =\n",
              "          document.querySelector('#df-00c46e86-3eb3-4cfd-b464-dabb9c09ba90 button.colab-df-convert');\n",
              "        buttonEl.style.display =\n",
              "          google.colab.kernel.accessAllowed ? 'block' : 'none';\n",
              "\n",
              "        async function convertToInteractive(key) {\n",
              "          const element = document.querySelector('#df-00c46e86-3eb3-4cfd-b464-dabb9c09ba90');\n",
              "          const dataTable =\n",
              "            await google.colab.kernel.invokeFunction('convertToInteractive',\n",
              "                                                     [key], {});\n",
              "          if (!dataTable) return;\n",
              "\n",
              "          const docLinkHtml = 'Like what you see? Visit the ' +\n",
              "            '<a target=\"_blank\" href=https://colab.research.google.com/notebooks/data_table.ipynb>data table notebook</a>'\n",
              "            + ' to learn more about interactive tables.';\n",
              "          element.innerHTML = '';\n",
              "          dataTable['output_type'] = 'display_data';\n",
              "          await google.colab.output.renderOutput(dataTable, element);\n",
              "          const docLink = document.createElement('div');\n",
              "          docLink.innerHTML = docLinkHtml;\n",
              "          element.appendChild(docLink);\n",
              "        }\n",
              "      </script>\n",
              "    </div>\n",
              "  </div>\n",
              "  "
            ]
          },
          "metadata": {},
          "execution_count": 21
        }
      ]
    },
    {
      "cell_type": "code",
      "source": [
        "x=data.drop(['Drug'], axis=1)\n",
        "y=data['Drug']"
      ],
      "metadata": {
        "id": "uhp2m9BmP057"
      },
      "execution_count": 22,
      "outputs": []
    },
    {
      "cell_type": "code",
      "source": [
        "#Spilting dataset\n",
        "x_train, x_test, y_train, y_test = train_test_split (x, y, test_size=0.3 )\n",
        "print(x_train.shape)\n",
        "print(y_train.shape)\n"
      ],
      "metadata": {
        "colab": {
          "base_uri": "https://localhost:8080/"
        },
        "id": "zHJwwP26b0_0",
        "outputId": "c8411f8b-3e75-4687-b8ff-b77ff974ab7c"
      },
      "execution_count": 23,
      "outputs": [
        {
          "output_type": "stream",
          "name": "stdout",
          "text": [
            "(140, 8)\n",
            "(140,)\n"
          ]
        }
      ]
    },
    {
      "cell_type": "code",
      "source": [
        "xtrain=x_train.drop(\"age_group\",axis=1)\n",
        "xtest=x_test.drop(\"age_group\",axis=1)"
      ],
      "metadata": {
        "id": "CxWEBQtfdfeT"
      },
      "execution_count": 24,
      "outputs": []
    },
    {
      "cell_type": "markdown",
      "source": [
        "## **Training and Evaluating Models**"
      ],
      "metadata": {
        "id": "UIWM9SaFdD8r"
      }
    },
    {
      "cell_type": "markdown",
      "source": [
        "So far, we understood the data, how parameters are affecting the target variable. You might have also observed that, there are multiple classes to be classified. It's a MULTI CLASS CLASSIFICATION. \n",
        "\n",
        "There are some classification models such as: \n",
        "\n",
        "- Logistic Regression\n",
        "\n",
        "- Support Vector Machines\n",
        "\n",
        "- K-NN\n",
        "\n",
        "- Decision trees and Random Forests (ensemble learning)\n",
        "\n",
        "- Naive Bayes (Gaussian, Mulitnomial, etc)\n",
        "\n",
        "If you're more hooked up into these basic techniques (mainly in supervised learning), go check out the [Sci-kit Learn website](https://scikit-learn.org/stable/supervised_learning.html) on this topic! "
      ],
      "metadata": {
        "id": "707Zi6d0zhd5"
      }
    },
    {
      "cell_type": "markdown",
      "source": [
        "First idea:\n",
        "\n",
        "Use K−1 classifiers, each solving a two class problem of separating point in a class Ck from points not in the class. This is also known as [1 vs all or 1 vs the rest classifier](https://machinelearningmastery.com/one-vs-rest-and-one-vs-one-for-multi-class-classification/)\n",
        "\n",
        "Now the problem is that there's more than one good answer for the green region!\n",
        "\n",
        "Go to [this site](https://www.cs.toronto.edu/~urtasun/courses/CSC411_Fall16/07_multiclass.pdf) right away to understand what multi-class classification is.\n",
        "\n",
        "\n",
        "![image.png](data:image/png;base64,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)"
      ],
      "metadata": {
        "id": "EhkvLMcZ0WF2"
      }
    },
    {
      "cell_type": "markdown",
      "source": [
        "### Linear Models"
      ],
      "metadata": {
        "id": "P_8g0l2Tertj"
      }
    },
    {
      "cell_type": "markdown",
      "source": [
        "***Logistic Regression***"
      ],
      "metadata": {
        "id": "7oY3ToCu2hXI"
      }
    },
    {
      "cell_type": "code",
      "source": [
        "model = LogisticRegression(multi_class='multinomial', C=1.0,solver='lbfgs', max_iter=3000)\n",
        "model.fit(xtrain, y_train)"
      ],
      "metadata": {
        "colab": {
          "base_uri": "https://localhost:8080/",
          "height": 0
        },
        "id": "9cmBT3a9_V0g",
        "outputId": "a93765c9-d2b8-490d-dd9b-428354172e13"
      },
      "execution_count": 25,
      "outputs": [
        {
          "output_type": "execute_result",
          "data": {
            "text/plain": [
              "LogisticRegression(max_iter=3000, multi_class='multinomial')"
            ],
            "text/html": [
              "<style>#sk-container-id-1 {color: black;background-color: white;}#sk-container-id-1 pre{padding: 0;}#sk-container-id-1 div.sk-toggleable {background-color: white;}#sk-container-id-1 label.sk-toggleable__label {cursor: pointer;display: block;width: 100%;margin-bottom: 0;padding: 0.3em;box-sizing: border-box;text-align: center;}#sk-container-id-1 label.sk-toggleable__label-arrow:before {content: \"▸\";float: left;margin-right: 0.25em;color: #696969;}#sk-container-id-1 label.sk-toggleable__label-arrow:hover:before {color: black;}#sk-container-id-1 div.sk-estimator:hover label.sk-toggleable__label-arrow:before {color: black;}#sk-container-id-1 div.sk-toggleable__content {max-height: 0;max-width: 0;overflow: hidden;text-align: left;background-color: #f0f8ff;}#sk-container-id-1 div.sk-toggleable__content pre {margin: 0.2em;color: black;border-radius: 0.25em;background-color: #f0f8ff;}#sk-container-id-1 input.sk-toggleable__control:checked~div.sk-toggleable__content {max-height: 200px;max-width: 100%;overflow: auto;}#sk-container-id-1 input.sk-toggleable__control:checked~label.sk-toggleable__label-arrow:before {content: \"▾\";}#sk-container-id-1 div.sk-estimator input.sk-toggleable__control:checked~label.sk-toggleable__label {background-color: #d4ebff;}#sk-container-id-1 div.sk-label input.sk-toggleable__control:checked~label.sk-toggleable__label {background-color: #d4ebff;}#sk-container-id-1 input.sk-hidden--visually {border: 0;clip: rect(1px 1px 1px 1px);clip: rect(1px, 1px, 1px, 1px);height: 1px;margin: -1px;overflow: hidden;padding: 0;position: absolute;width: 1px;}#sk-container-id-1 div.sk-estimator {font-family: monospace;background-color: #f0f8ff;border: 1px dotted black;border-radius: 0.25em;box-sizing: border-box;margin-bottom: 0.5em;}#sk-container-id-1 div.sk-estimator:hover {background-color: #d4ebff;}#sk-container-id-1 div.sk-parallel-item::after {content: \"\";width: 100%;border-bottom: 1px solid gray;flex-grow: 1;}#sk-container-id-1 div.sk-label:hover label.sk-toggleable__label {background-color: #d4ebff;}#sk-container-id-1 div.sk-serial::before {content: \"\";position: absolute;border-left: 1px solid gray;box-sizing: border-box;top: 0;bottom: 0;left: 50%;z-index: 0;}#sk-container-id-1 div.sk-serial {display: flex;flex-direction: column;align-items: center;background-color: white;padding-right: 0.2em;padding-left: 0.2em;position: relative;}#sk-container-id-1 div.sk-item {position: relative;z-index: 1;}#sk-container-id-1 div.sk-parallel {display: flex;align-items: stretch;justify-content: center;background-color: white;position: relative;}#sk-container-id-1 div.sk-item::before, #sk-container-id-1 div.sk-parallel-item::before {content: \"\";position: absolute;border-left: 1px solid gray;box-sizing: border-box;top: 0;bottom: 0;left: 50%;z-index: -1;}#sk-container-id-1 div.sk-parallel-item {display: flex;flex-direction: column;z-index: 1;position: relative;background-color: white;}#sk-container-id-1 div.sk-parallel-item:first-child::after {align-self: flex-end;width: 50%;}#sk-container-id-1 div.sk-parallel-item:last-child::after {align-self: flex-start;width: 50%;}#sk-container-id-1 div.sk-parallel-item:only-child::after {width: 0;}#sk-container-id-1 div.sk-dashed-wrapped {border: 1px dashed gray;margin: 0 0.4em 0.5em 0.4em;box-sizing: border-box;padding-bottom: 0.4em;background-color: white;}#sk-container-id-1 div.sk-label label {font-family: monospace;font-weight: bold;display: inline-block;line-height: 1.2em;}#sk-container-id-1 div.sk-label-container {text-align: center;}#sk-container-id-1 div.sk-container {/* jupyter's `normalize.less` sets `[hidden] { display: none; }` but bootstrap.min.css set `[hidden] { display: none !important; }` so we also need the `!important` here to be able to override the default hidden behavior on the sphinx rendered scikit-learn.org. See: https://github.com/scikit-learn/scikit-learn/issues/21755 */display: inline-block !important;position: relative;}#sk-container-id-1 div.sk-text-repr-fallback {display: none;}</style><div id=\"sk-container-id-1\" class=\"sk-top-container\"><div class=\"sk-text-repr-fallback\"><pre>LogisticRegression(max_iter=3000, multi_class=&#x27;multinomial&#x27;)</pre><b>In a Jupyter environment, please rerun this cell to show the HTML representation or trust the notebook. <br />On GitHub, the HTML representation is unable to render, please try loading this page with nbviewer.org.</b></div><div class=\"sk-container\" hidden><div class=\"sk-item\"><div class=\"sk-estimator sk-toggleable\"><input class=\"sk-toggleable__control sk-hidden--visually\" id=\"sk-estimator-id-1\" type=\"checkbox\" checked><label for=\"sk-estimator-id-1\" class=\"sk-toggleable__label sk-toggleable__label-arrow\">LogisticRegression</label><div class=\"sk-toggleable__content\"><pre>LogisticRegression(max_iter=3000, multi_class=&#x27;multinomial&#x27;)</pre></div></div></div></div></div>"
            ]
          },
          "metadata": {},
          "execution_count": 25
        }
      ]
    },
    {
      "cell_type": "code",
      "source": [
        "y_pred=model.predict(xtest)"
      ],
      "metadata": {
        "id": "m96cEc6o_VXf"
      },
      "execution_count": 26,
      "outputs": []
    },
    {
      "cell_type": "code",
      "source": [
        "cm=confusion_matrix(y_pred, y_test)\n",
        "print(cm)\n",
        "sns.heatmap(confusion_matrix(y_test, y_pred), annot=True)"
      ],
      "metadata": {
        "colab": {
          "base_uri": "https://localhost:8080/",
          "height": 0
        },
        "id": "1bDI7KK6_VIB",
        "outputId": "2cb83b7c-6ca3-4e41-d3fa-046d3b35d999"
      },
      "execution_count": 27,
      "outputs": [
        {
          "output_type": "stream",
          "name": "stdout",
          "text": [
            "[[30  0  0  0  0]\n",
            " [ 0  5  1  0  0]\n",
            " [ 0  0  5  0  0]\n",
            " [ 0  0  0  6  0]\n",
            " [ 0  0  0  0 13]]\n"
          ]
        },
        {
          "output_type": "execute_result",
          "data": {
            "text/plain": [
              "<Axes: >"
            ]
          },
          "metadata": {},
          "execution_count": 27
        },
        {
          "output_type": "display_data",
          "data": {
            "text/plain": [
              "<Figure size 432x288 with 2 Axes>"
            ],
            "image/png": "[encoded data removed]"
          },
          "metadata": {
            "needs_background": "light"
          }
        }
      ]
    },
    {
      "cell_type": "code",
      "source": [
        "accuracy=accuracy_score(y_test, y_pred)\n",
        "print(accuracy)"
      ],
      "metadata": {
        "colab": {
          "base_uri": "https://localhost:8080/"
        },
        "id": "_Kqa8Kbg_U9i",
        "outputId": "a55db51b-7c33-43ab-d73f-975d73d7bd0c"
      },
      "execution_count": 28,
      "outputs": [
        {
          "output_type": "stream",
          "name": "stdout",
          "text": [
            "0.9833333333333333\n"
          ]
        }
      ]
    },
    {
      "cell_type": "markdown",
      "source": [
        "**Tasks**\n",
        "1. So far, we have seen the accuracy with logistic Regression, try for KNN, Decision tree, naive bayes models.Compare their accuracies and write down your analysis.\n",
        "2. Change hyperparamters and achieve good accuracies for all the models. \n"
      ],
      "metadata": {
        "id": "ysVqpxEV2rm1"
      }
    },
    {
      "cell_type": "markdown",
      "source": [
        "### Support Vector Machines"
      ],
      "metadata": {
        "id": "OEpnQJj5e2jF"
      }
    },
    {
      "cell_type": "markdown",
      "source": [
        "Read about Support Vector Machines \n",
        "https://www.javatpoint.com/machine-learning-support-vector-machine-algorithm\n",
        "\n",
        "and look https://scikit-learn.org/stable/modules/svm.html#classification for better unerstanding."
      ],
      "metadata": {
        "id": "XEhirB6p5PzO"
      }
    },
    {
      "cell_type": "code",
      "source": [
        "from sklearn.svm import LinearSVC\n",
        "SVMmodel = LinearSVC()\n",
        "SVMmodel.fit(xtrain, y_train)"
      ],
      "metadata": {
        "colab": {
          "base_uri": "https://localhost:8080/",
          "height": 0
        },
        "id": "W85JYcLQe7x7",
        "outputId": "070b6ca7-89cc-4b31-a039-942f9d3ce2d8"
      },
      "execution_count": 29,
      "outputs": [
        {
          "output_type": "stream",
          "name": "stderr",
          "text": [
            "/usr/local/lib/python3.9/dist-packages/sklearn/svm/_base.py:1244: ConvergenceWarning: Liblinear failed to converge, increase the number of iterations.\n",
            "  warnings.warn(\n"
          ]
        },
        {
          "output_type": "execute_result",
          "data": {
            "text/plain": [
              "LinearSVC()"
            ],
            "text/html": [
              "<style>#sk-container-id-2 {color: black;background-color: white;}#sk-container-id-2 pre{padding: 0;}#sk-container-id-2 div.sk-toggleable {background-color: white;}#sk-container-id-2 label.sk-toggleable__label {cursor: pointer;display: block;width: 100%;margin-bottom: 0;padding: 0.3em;box-sizing: border-box;text-align: center;}#sk-container-id-2 label.sk-toggleable__label-arrow:before {content: \"▸\";float: left;margin-right: 0.25em;color: #696969;}#sk-container-id-2 label.sk-toggleable__label-arrow:hover:before {color: black;}#sk-container-id-2 div.sk-estimator:hover label.sk-toggleable__label-arrow:before {color: black;}#sk-container-id-2 div.sk-toggleable__content {max-height: 0;max-width: 0;overflow: hidden;text-align: left;background-color: #f0f8ff;}#sk-container-id-2 div.sk-toggleable__content pre {margin: 0.2em;color: black;border-radius: 0.25em;background-color: #f0f8ff;}#sk-container-id-2 input.sk-toggleable__control:checked~div.sk-toggleable__content {max-height: 200px;max-width: 100%;overflow: auto;}#sk-container-id-2 input.sk-toggleable__control:checked~label.sk-toggleable__label-arrow:before {content: \"▾\";}#sk-container-id-2 div.sk-estimator input.sk-toggleable__control:checked~label.sk-toggleable__label {background-color: #d4ebff;}#sk-container-id-2 div.sk-label input.sk-toggleable__control:checked~label.sk-toggleable__label {background-color: #d4ebff;}#sk-container-id-2 input.sk-hidden--visually {border: 0;clip: rect(1px 1px 1px 1px);clip: rect(1px, 1px, 1px, 1px);height: 1px;margin: -1px;overflow: hidden;padding: 0;position: absolute;width: 1px;}#sk-container-id-2 div.sk-estimator {font-family: monospace;background-color: #f0f8ff;border: 1px dotted black;border-radius: 0.25em;box-sizing: border-box;margin-bottom: 0.5em;}#sk-container-id-2 div.sk-estimator:hover {background-color: #d4ebff;}#sk-container-id-2 div.sk-parallel-item::after {content: \"\";width: 100%;border-bottom: 1px solid gray;flex-grow: 1;}#sk-container-id-2 div.sk-label:hover label.sk-toggleable__label {background-color: #d4ebff;}#sk-container-id-2 div.sk-serial::before {content: \"\";position: absolute;border-left: 1px solid gray;box-sizing: border-box;top: 0;bottom: 0;left: 50%;z-index: 0;}#sk-container-id-2 div.sk-serial {display: flex;flex-direction: column;align-items: center;background-color: white;padding-right: 0.2em;padding-left: 0.2em;position: relative;}#sk-container-id-2 div.sk-item {position: relative;z-index: 1;}#sk-container-id-2 div.sk-parallel {display: flex;align-items: stretch;justify-content: center;background-color: white;position: relative;}#sk-container-id-2 div.sk-item::before, #sk-container-id-2 div.sk-parallel-item::before {content: \"\";position: absolute;border-left: 1px solid gray;box-sizing: border-box;top: 0;bottom: 0;left: 50%;z-index: -1;}#sk-container-id-2 div.sk-parallel-item {display: flex;flex-direction: column;z-index: 1;position: relative;background-color: white;}#sk-container-id-2 div.sk-parallel-item:first-child::after {align-self: flex-end;width: 50%;}#sk-container-id-2 div.sk-parallel-item:last-child::after {align-self: flex-start;width: 50%;}#sk-container-id-2 div.sk-parallel-item:only-child::after {width: 0;}#sk-container-id-2 div.sk-dashed-wrapped {border: 1px dashed gray;margin: 0 0.4em 0.5em 0.4em;box-sizing: border-box;padding-bottom: 0.4em;background-color: white;}#sk-container-id-2 div.sk-label label {font-family: monospace;font-weight: bold;display: inline-block;line-height: 1.2em;}#sk-container-id-2 div.sk-label-container {text-align: center;}#sk-container-id-2 div.sk-container {/* jupyter's `normalize.less` sets `[hidden] { display: none; }` but bootstrap.min.css set `[hidden] { display: none !important; }` so we also need the `!important` here to be able to override the default hidden behavior on the sphinx rendered scikit-learn.org. See: https://github.com/scikit-learn/scikit-learn/issues/21755 */display: inline-block !important;position: relative;}#sk-container-id-2 div.sk-text-repr-fallback {display: none;}</style><div id=\"sk-container-id-2\" class=\"sk-top-container\"><div class=\"sk-text-repr-fallback\"><pre>LinearSVC()</pre><b>In a Jupyter environment, please rerun this cell to show the HTML representation or trust the notebook. <br />On GitHub, the HTML representation is unable to render, please try loading this page with nbviewer.org.</b></div><div class=\"sk-container\" hidden><div class=\"sk-item\"><div class=\"sk-estimator sk-toggleable\"><input class=\"sk-toggleable__control sk-hidden--visually\" id=\"sk-estimator-id-2\" type=\"checkbox\" checked><label for=\"sk-estimator-id-2\" class=\"sk-toggleable__label sk-toggleable__label-arrow\">LinearSVC</label><div class=\"sk-toggleable__content\"><pre>LinearSVC()</pre></div></div></div></div></div>"
            ]
          },
          "metadata": {},
          "execution_count": 29
        }
      ]
    },
    {
      "cell_type": "code",
      "source": [
        "ypred=SVMmodel.predict(xtest)"
      ],
      "metadata": {
        "id": "f01wx8UsfDG3"
      },
      "execution_count": 30,
      "outputs": []
    },
    {
      "cell_type": "code",
      "source": [
        "cm=confusion_matrix(ypred, y_test)\n",
        "print(cm)\n",
        "sns.heatmap(confusion_matrix(y_test, ypred), annot=True)"
      ],
      "metadata": {
        "colab": {
          "base_uri": "https://localhost:8080/",
          "height": 0
        },
        "id": "D60WkIeQfGBF",
        "outputId": "7776f003-d0b7-4646-e486-f732c5d4b55d"
      },
      "execution_count": 31,
      "outputs": [
        {
          "output_type": "stream",
          "name": "stdout",
          "text": [
            "[[26  0  0  0  0]\n",
            " [ 0  5  3  0  0]\n",
            " [ 0  0  3  0  0]\n",
            " [ 2  0  0  6  0]\n",
            " [ 2  0  0  0 13]]\n"
          ]
        },
        {
          "output_type": "execute_result",
          "data": {
            "text/plain": [
              "<Axes: >"
            ]
          },
          "metadata": {},
          "execution_count": 31
        },
        {
          "output_type": "display_data",
          "data": {
            "text/plain": [
              "<Figure size 432x288 with 2 Axes>"
            ],
            "image/png": "[encoded data removed]"
          },
          "metadata": {
            "needs_background": "light"
          }
        }
      ]
    },
    {
      "cell_type": "code",
      "source": [
        "accuracy=accuracy_score(y_test, ypred)\n",
        "print(accuracy)"
      ],
      "metadata": {
        "colab": {
          "base_uri": "https://localhost:8080/"
        },
        "id": "vxv3XRH8fII4",
        "outputId": "c3a1787d-d48c-4ebb-fa44-3870cafed6a5"
      },
      "execution_count": 32,
      "outputs": [
        {
          "output_type": "stream",
          "name": "stdout",
          "text": [
            "0.8833333333333333\n"
          ]
        }
      ]
    },
    {
      "cell_type": "markdown",
      "source": [
        "Try changing the settings of the kernel i.e, you can try changing hyperparamters and improve the accuracy."
      ],
      "metadata": {
        "id": "iNAaGNLJhzf5"
      }
    },
    {
      "cell_type": "markdown",
      "source": [
        "### Ensembling models"
      ],
      "metadata": {
        "id": "byCOjRTN7Sr_"
      }
    },
    {
      "cell_type": "markdown",
      "source": [
        "The goal of ensemble methods is to combine the predictions of several base estimators built with a given learning algorithm in order to improve generalizability / robustness over a single estimator. Look [here](https://scikit-learn.org/stable/modules/ensemble.html)\n"
      ],
      "metadata": {
        "id": "lWQTkWGM8DGz"
      }
    },
    {
      "cell_type": "code",
      "source": [
        "rfc = RandomForestClassifier(max_depth=4)"
      ],
      "metadata": {
        "id": "ViP8NyGH7Y_2"
      },
      "execution_count": 33,
      "outputs": []
    },
    {
      "cell_type": "code",
      "source": [
        "rfc.fit(xtrain, y_train)"
      ],
      "metadata": {
        "id": "s8LOzZIM7abQ",
        "colab": {
          "base_uri": "https://localhost:8080/",
          "height": 75
        },
        "outputId": "93ae4d80-080b-44a7-ed2d-5f1935a8d35f"
      },
      "execution_count": 34,
      "outputs": [
        {
          "output_type": "execute_result",
          "data": {
            "text/plain": [
              "RandomForestClassifier(max_depth=4)"
            ],
            "text/html": [
              "<style>#sk-container-id-3 {color: black;background-color: white;}#sk-container-id-3 pre{padding: 0;}#sk-container-id-3 div.sk-toggleable {background-color: white;}#sk-container-id-3 label.sk-toggleable__label {cursor: pointer;display: block;width: 100%;margin-bottom: 0;padding: 0.3em;box-sizing: border-box;text-align: center;}#sk-container-id-3 label.sk-toggleable__label-arrow:before {content: \"▸\";float: left;margin-right: 0.25em;color: #696969;}#sk-container-id-3 label.sk-toggleable__label-arrow:hover:before {color: black;}#sk-container-id-3 div.sk-estimator:hover label.sk-toggleable__label-arrow:before {color: black;}#sk-container-id-3 div.sk-toggleable__content {max-height: 0;max-width: 0;overflow: hidden;text-align: left;background-color: #f0f8ff;}#sk-container-id-3 div.sk-toggleable__content pre {margin: 0.2em;color: black;border-radius: 0.25em;background-color: #f0f8ff;}#sk-container-id-3 input.sk-toggleable__control:checked~div.sk-toggleable__content {max-height: 200px;max-width: 100%;overflow: auto;}#sk-container-id-3 input.sk-toggleable__control:checked~label.sk-toggleable__label-arrow:before {content: \"▾\";}#sk-container-id-3 div.sk-estimator input.sk-toggleable__control:checked~label.sk-toggleable__label {background-color: #d4ebff;}#sk-container-id-3 div.sk-label input.sk-toggleable__control:checked~label.sk-toggleable__label {background-color: #d4ebff;}#sk-container-id-3 input.sk-hidden--visually {border: 0;clip: rect(1px 1px 1px 1px);clip: rect(1px, 1px, 1px, 1px);height: 1px;margin: -1px;overflow: hidden;padding: 0;position: absolute;width: 1px;}#sk-container-id-3 div.sk-estimator {font-family: monospace;background-color: #f0f8ff;border: 1px dotted black;border-radius: 0.25em;box-sizing: border-box;margin-bottom: 0.5em;}#sk-container-id-3 div.sk-estimator:hover {background-color: #d4ebff;}#sk-container-id-3 div.sk-parallel-item::after {content: \"\";width: 100%;border-bottom: 1px solid gray;flex-grow: 1;}#sk-container-id-3 div.sk-label:hover label.sk-toggleable__label {background-color: #d4ebff;}#sk-container-id-3 div.sk-serial::before {content: \"\";position: absolute;border-left: 1px solid gray;box-sizing: border-box;top: 0;bottom: 0;left: 50%;z-index: 0;}#sk-container-id-3 div.sk-serial {display: flex;flex-direction: column;align-items: center;background-color: white;padding-right: 0.2em;padding-left: 0.2em;position: relative;}#sk-container-id-3 div.sk-item {position: relative;z-index: 1;}#sk-container-id-3 div.sk-parallel {display: flex;align-items: stretch;justify-content: center;background-color: white;position: relative;}#sk-container-id-3 div.sk-item::before, #sk-container-id-3 div.sk-parallel-item::before {content: \"\";position: absolute;border-left: 1px solid gray;box-sizing: border-box;top: 0;bottom: 0;left: 50%;z-index: -1;}#sk-container-id-3 div.sk-parallel-item {display: flex;flex-direction: column;z-index: 1;position: relative;background-color: white;}#sk-container-id-3 div.sk-parallel-item:first-child::after {align-self: flex-end;width: 50%;}#sk-container-id-3 div.sk-parallel-item:last-child::after {align-self: flex-start;width: 50%;}#sk-container-id-3 div.sk-parallel-item:only-child::after {width: 0;}#sk-container-id-3 div.sk-dashed-wrapped {border: 1px dashed gray;margin: 0 0.4em 0.5em 0.4em;box-sizing: border-box;padding-bottom: 0.4em;background-color: white;}#sk-container-id-3 div.sk-label label {font-family: monospace;font-weight: bold;display: inline-block;line-height: 1.2em;}#sk-container-id-3 div.sk-label-container {text-align: center;}#sk-container-id-3 div.sk-container {/* jupyter's `normalize.less` sets `[hidden] { display: none; }` but bootstrap.min.css set `[hidden] { display: none !important; }` so we also need the `!important` here to be able to override the default hidden behavior on the sphinx rendered scikit-learn.org. See: https://github.com/scikit-learn/scikit-learn/issues/21755 */display: inline-block !important;position: relative;}#sk-container-id-3 div.sk-text-repr-fallback {display: none;}</style><div id=\"sk-container-id-3\" class=\"sk-top-container\"><div class=\"sk-text-repr-fallback\"><pre>RandomForestClassifier(max_depth=4)</pre><b>In a Jupyter environment, please rerun this cell to show the HTML representation or trust the notebook. <br />On GitHub, the HTML representation is unable to render, please try loading this page with nbviewer.org.</b></div><div class=\"sk-container\" hidden><div class=\"sk-item\"><div class=\"sk-estimator sk-toggleable\"><input class=\"sk-toggleable__control sk-hidden--visually\" id=\"sk-estimator-id-3\" type=\"checkbox\" checked><label for=\"sk-estimator-id-3\" class=\"sk-toggleable__label sk-toggleable__label-arrow\">RandomForestClassifier</label><div class=\"sk-toggleable__content\"><pre>RandomForestClassifier(max_depth=4)</pre></div></div></div></div></div>"
            ]
          },
          "metadata": {},
          "execution_count": 34
        }
      ]
    },
    {
      "cell_type": "code",
      "source": [
        "rand_forest_predictions = rfc.predict(xtest)"
      ],
      "metadata": {
        "id": "9HlQXCpF7blv"
      },
      "execution_count": 35,
      "outputs": []
    },
    {
      "cell_type": "code",
      "source": [
        "decision_path = rfc.decision_path(xtrain)\n",
        "accuracy= accuracy_score(y_test, rand_forest_predictions)\n",
        "print(\"The accuracy is:\",accuracy)\n",
        "# rand_forest_predictions"
      ],
      "metadata": {
        "colab": {
          "base_uri": "https://localhost:8080/"
        },
        "id": "DQYaXjT687sN",
        "outputId": "f50119c5-6c2e-4470-8f5d-fc677b982199"
      },
      "execution_count": 48,
      "outputs": [
        {
          "output_type": "stream",
          "name": "stdout",
          "text": [
            "The accuracy is: 0.9833333333333333\n"
          ]
        }
      ]
    },
    {
      "cell_type": "markdown",
      "source": [
        "**Tasks:**\n",
        "\n",
        "1. Try to improve accuracy of the model by changing hyperparameters.\n",
        "2. Try with other models like XGBoost, AdaBoost, CatBoost,and so on and compare accuracies.\n",
        "\n"
      ],
      "metadata": {
        "id": "gSoV9lFg8Xod"
      }
    },
    {
      "cell_type": "markdown",
      "source": [
        "### Optional Tasks"
      ],
      "metadata": {
        "id": "co9jcP4I4ydC"
      }
    },
    {
      "cell_type": "markdown",
      "source": [
        "***Try Out!!!***\n",
        "\n",
        "We have seen various models and their accuracies on the dataset. Now, let's look into enterprise approach by automating the tasks that you've done till now. Try out GRID SEARCH which is what we're talking about."
      ],
      "metadata": {
        "id": "sENx6aUR-fWq"
      }
    },
    {
      "cell_type": "markdown",
      "source": [
        "Read more [here](https://scikit-learn.org/stable/modules/generated/sklearn.model_selection.GridSearchCV.html). Uncomment the following code and implement the grid search. "
      ],
      "metadata": {
        "id": "3vKdKk24_PK1"
      }
    },
    {
      "cell_type": "code",
      "source": [
        "# def choose_best_gcvFit_for_a_model(model, X, y, param_grid, cv=5, scoring='accuracy'):\n",
        "#     gcv_obj = GridSearchCV(model, param_grid, cv=cv, scoring=scoring)\n",
        "#     gcv_obj.fit(X, y)\n",
        "#     best_score = gcv_obj.best_score_\n",
        "#     best_params = gcv_obj.best_params_\n",
        "#     return {\"Best score\" : best_score, \"Best parameters\" : best_params}"
      ],
      "metadata": {
        "id": "zoB0orix_FyQ"
      },
      "execution_count": null,
      "outputs": []
    },
    {
      "cell_type": "code",
      "source": [
        "# def compare_models_with_best_gcvFits(models, X, y, param_grids, cv=5, scoring='accuracy'):\n",
        "#     score_grid = {}\n",
        "\n",
        "#     for i in models:\n",
        "#         ml_model =  models[i]\n",
        "#         paramGrid = param_grids[i]\n",
        "#         gcv = GridSearchCV(ml_model, paramGrid, cv=cv, scoring=scoring)\n",
        "#         gcv.fit(X, y)\n",
        "#         score_grid.update({i: {\"hyperParameters\": gcv.best_params_, \"score\": gcv.best_score_}})\n",
        "        \n",
        "#     for i in score_grid:\n",
        "#         print(i)\n",
        "#         print('\\t', score_grid[i]['hyperParameters'])"
      ],
      "metadata": {
        "id": "P9oTBdw__gFA"
      },
      "execution_count": null,
      "outputs": []
    },
    {
      "cell_type": "code",
      "source": [
        "# model = SVC()\n",
        "# param_grid = {\n",
        "#         \"kernel\": ['linear', 'poly', 'rbf'],\n",
        "#         \"max_iter\": [0, 100, 1000],\n",
        "#         \"degree\": [2, 3, 4]\n",
        "# }\n",
        "# ourGridCVObj = GridSearchCV(model, param_grid, cv=5, scoring='accuracy')"
      ],
      "metadata": {
        "id": "G4fEJ2KS_kz3"
      },
      "execution_count": null,
      "outputs": []
    },
    {
      "cell_type": "markdown",
      "source": [
        "Use the methods above and try out until you're bored! :)"
      ],
      "metadata": {
        "id": "smRb8k7C_viy"
      }
    },
    {
      "cell_type": "markdown",
      "source": [
        "\n",
        "As you have seen, for every model we're importing the model algorithm. Try to understand how each model works and implement them without importing. We'll discuss about this neural network classification and regression in the upcoming tutorial notebook."
      ],
      "metadata": {
        "id": "10zbMgZI4TRo"
      }
    },
    {
      "cell_type": "markdown",
      "source": [
        "\n",
        "*This notebook was prepared by the Core Team of QML, QuantumAI- Gayatri Vadaparty, Srinadh Vura, Sai Ganesh Manda, Nouhaila Innan* "
      ],
      "metadata": {
        "id": "Noi9ERAUgiPi"
      }
    }
  ]
}